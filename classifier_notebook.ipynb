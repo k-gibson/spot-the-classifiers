{
 "cells": [
  {
   "cell_type": "markdown",
   "metadata": {},
   "source": [
    "# Spot the Classifiers\n",
    "## By Kathrine Gibson and Lucy Tibbetts\n",
    "For our final project, we were interested in how different song attributes affect song popularity. To do this, we used [this dataset from kaggle](https://www.kaggle.com/tomigelo/spotify-audio-features). This dataset contained artist name, track id, track name, audio features, and popularity of over 116k songs on Spotify. There were thirteen audio features: acousticness, danceability, duration, energy, instrumentalness, key, liveness, loudness, mode, speechiness, tempo, time signature, and valence. \n",
    "\n",
    "To determine which audio features to use, we created graphs of each feature and popularity:"
   ]
  },
  {
   "cell_type": "code",
   "execution_count": null,
   "metadata": {},
   "outputs": [],
   "source": [
    "import numpy as np\n",
    "import matplotlib.pyplot as plt\n",
    "#grid of graphs goes here"
   ]
  },
  {
   "cell_type": "markdown",
   "metadata": {},
   "source": [
    "After looking at the graphs, we decided not to use key, mode, or time signature. \n",
    "\n",
    "This dataset didn't need much cleaning, but we chose to remove the first three columns of the table since many of the track names included commas. \n"
   ]
  }
 ],
 "metadata": {
  "kernelspec": {
   "display_name": "Python 3",
   "language": "python",
   "name": "python3"
  },
  "language_info": {
   "codemirror_mode": {
    "name": "ipython",
    "version": 3
   },
   "file_extension": ".py",
   "mimetype": "text/x-python",
   "name": "python",
   "nbconvert_exporter": "python",
   "pygments_lexer": "ipython3",
   "version": "3.7.2"
  }
 },
 "nbformat": 4,
 "nbformat_minor": 2
}
